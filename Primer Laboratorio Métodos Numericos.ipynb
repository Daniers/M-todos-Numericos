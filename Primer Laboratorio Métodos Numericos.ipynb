{
 "cells": [
  {
   "cell_type": "code",
   "execution_count": 25,
   "metadata": {
    "collapsed": false,
    "scrolled": false
   },
   "outputs": [
    {
     "name": "stdout",
     "output_type": "stream",
     "text": [
      "1\n",
      "valor : 1\n",
      "error : 100\n",
      "\n",
      "2\n",
      "valor : 1.5\n",
      "error : 33.3333333333\n",
      "\n",
      "3\n",
      "valor : 1.625\n",
      "error : 7.69230769231\n",
      "\n",
      "4\n",
      "valor : 1.64583333333\n",
      "error : 1.26582278481\n",
      "\n",
      "5\n",
      "valor : 1.6484375\n",
      "error : 0.157977883096\n",
      "\n",
      "6\n",
      "valor : 1.64869791667\n",
      "error : 0.0157952930027\n",
      "\n",
      "7\n",
      "valor : 1.64871961806\n",
      "error : 0.00131625709133\n",
      "\n",
      "8\n",
      "valor : 1.64872116815\n",
      "error : 9.4018275271e-05\n",
      "\n"
     ]
    }
   ],
   "source": [
    "import math\n",
    "n=1\n",
    "es=0.0005\n",
    "count=1\n",
    "aux=0\n",
    "err=100\n",
    "while err > es:\n",
    "    x=0.5\n",
    "    y=(math.factorial(n))\n",
    "    fun=(x**n)/y #funcion a evaluar\n",
    "    print n #imprimir numero de iteracion\n",
    "    n += 1\n",
    "    err=((count-aux)/count)*100 # impresion de error\n",
    "    aux=count\n",
    "    print \"valor :\",count # imprimir valor de e^\n",
    "    count += fun\n",
    "    print \"error :\",err # imprimir porcentaje de error\n",
    "    print \"\" # salto de linea\n",
    "\n",
    "\n",
    " "
   ]
  }
 ],
 "metadata": {
  "kernelspec": {
   "display_name": "Python 2",
   "language": "python",
   "name": "python2"
  },
  "language_info": {
   "codemirror_mode": {
    "name": "ipython",
    "version": 2
   },
   "file_extension": ".py",
   "mimetype": "text/x-python",
   "name": "python",
   "nbconvert_exporter": "python",
   "pygments_lexer": "ipython2",
   "version": "2.7.10"
  }
 },
 "nbformat": 4,
 "nbformat_minor": 0
}
