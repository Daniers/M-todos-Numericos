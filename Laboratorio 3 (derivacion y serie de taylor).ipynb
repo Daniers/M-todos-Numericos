{
 "cells": [
  {
   "cell_type": "code",
   "execution_count": 8,
   "metadata": {
    "collapsed": false
   },
   "outputs": [
    {
     "name": "stdout",
     "output_type": "stream",
     "text": [
      "Ingrese el orden de la funcion\n",
      "Orden: 1\n",
      "el valor f aproximado es:  0.95\n",
      "el valor de la funcion es:  0.2\n"
     ]
    }
   ],
   "source": [
    "import math\n",
    "x=1\n",
    "h=1\n",
    "print \"Ingrese el orden de la funcion\"\n",
    "orden = int(input(\"Orden: \"))\n",
    "def fx(x):\n",
    "    return (-0.1*(x**4))-(0.15*(x**3))-(0.5*(x**2))-(0.25*x)+1.2\n",
    "\n",
    "def faprox(x,orden):\n",
    "    f=(-0.1*((x-1)**4))-(0.15*((x-1)**3))-(0.5*((x-1)**2))-(0.25*(x-1))+1.2\n",
    "    f1=(-0.4*((x-1)**3))-(0.45*((x-1)**2))-(1*(x-1))-0.25\n",
    "    f2=(-1.2*((x-1)**2))-(0.9*(x-1))-1\n",
    "    f3=(-2.4*(x-1))-0.9\n",
    "    f4=-2.4\n",
    "    deri=[f1,f2,f3,f4]\n",
    "    aux=f\n",
    "    n=0\n",
    "    while orden > 0:\n",
    "        aux+=(deri[n]/math.factorial(n+1))*h\n",
    "        n+=1\n",
    "        orden-=1\n",
    "    return aux\n",
    "print \"el valor f aproximado es: \",faprox(x,orden)\n",
    "print \"el valor de la funcion es: \", fx(x)"
   ]
  },
  {
   "cell_type": "code",
   "execution_count": null,
   "metadata": {
    "collapsed": true
   },
   "outputs": [],
   "source": []
  }
 ],
 "metadata": {
  "kernelspec": {
   "display_name": "Python 2",
   "language": "python",
   "name": "python2"
  },
  "language_info": {
   "codemirror_mode": {
    "name": "ipython",
    "version": 2
   },
   "file_extension": ".py",
   "mimetype": "text/x-python",
   "name": "python",
   "nbconvert_exporter": "python",
   "pygments_lexer": "ipython2",
   "version": "2.7.10"
  }
 },
 "nbformat": 4,
 "nbformat_minor": 0
}
