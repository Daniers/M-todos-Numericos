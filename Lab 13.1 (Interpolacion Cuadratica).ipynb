{
 "cells": [
  {
   "cell_type": "code",
   "execution_count": 22,
   "metadata": {
    "collapsed": false
   },
   "outputs": [],
   "source": [
    "import numpy as np\n",
    "import matplotlib.pyplot as plt\n",
    "\n",
    "t=[]\n",
    "dat=[]\n",
    "aux=[]\n",
    "xp=[1.0,2.0,3.0,4.0,5.0,6.0,7.0]\n",
    "xp=np.array(xp)\n",
    "y1=np.arange(1, 7, 0.01)\n",
    "\n",
    "def funs(t):\n",
    "    return np.log(t)\n",
    "\n",
    "def inter(t,i):\n",
    "    b0=funs(xp[i-2])\n",
    "    b1=((funs(xp[i-1]))-(funs(xp[i-2])))/(xp[i-1]-xp[i-2])\n",
    "    b2=((((funs(xp[i]))-(funs(xp[i-1])))/(xp[i]-xp[i-1]))-(((funs(xp[i-1]))-(funs(xp[i-2])))/(xp[i-1]-xp[i-2])))/(xp[i]-xp[i-2])\n",
    "    return b0+(b1*(t-xp[i-2]))+(b2*(t-xp[i-2])*(t-xp[i-1]))\n",
    "\n",
    "aux=funs(xp)\n",
    "i=2\n",
    "while i<=6:\n",
    "    t=np.arange(xp[i-2], xp[i], 0.01)\n",
    "    dat=inter(t,i)\n",
    "    plt.plot(t,dat, color=\"g\", linestyle=\"--\")\n",
    "    i+=2\n",
    "\n",
    "plt.plot(y1,funs(y1), color=\"r\", label=\"Ln\")    \n",
    "plt.scatter(xp,aux, color=\"g\", linestyle=\"--\", label=\"Interpolacion\")\n",
    "plt.title(\"Funcion Ln(x)\")   # Establece el título del gráfico\n",
    "plt.xlabel(\"Tiempo (s)\")   # Establece el título del eje x \n",
    "plt.ylabel(\"Logaritmo natural \")   # Establece el título del eje y\n",
    "plt.grid(True)  # Activa cuadrícula del gráfico pero no se muestra\n",
    "plt.legend(loc=\"lower right\")\n",
    "plt.show()"
   ]
  }
 ],
 "metadata": {
  "kernelspec": {
   "display_name": "Python 2",
   "language": "python",
   "name": "python2"
  },
  "language_info": {
   "codemirror_mode": {
    "name": "ipython",
    "version": 2
   },
   "file_extension": ".py",
   "mimetype": "text/x-python",
   "name": "python",
   "nbconvert_exporter": "python",
   "pygments_lexer": "ipython2",
   "version": "2.7.10"
  }
 },
 "nbformat": 4,
 "nbformat_minor": 0
}
