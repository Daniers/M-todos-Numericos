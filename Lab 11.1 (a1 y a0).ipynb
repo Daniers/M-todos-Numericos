{
 "cells": [
  {
   "cell_type": "code",
   "execution_count": 2,
   "metadata": {
    "collapsed": false
   },
   "outputs": [
    {
     "name": "stdout",
     "output_type": "stream",
     "text": [
      "el valor de A1:  0.0285714285714\n",
      "El valor promedio de x es:  10.5\n",
      "El valor promedio de y es:  20.4\n",
      "el valor de A0:  20.1\n"
     ]
    }
   ],
   "source": [
    "import numpy as np\n",
    "import math\n",
    "import matplotlib.pyplot as plt\n",
    "\n",
    "y=[19,19,23,21,21,21,19,18,20,22,22,21,19,19,20,20,20,21,20,23]\n",
    "y=np.array(y)\n",
    "x=vx=[1,2,3,4,5,6,7,8,9,10,11,12,13,14,15,16,17,18,19,20]\n",
    "x=np.array(x)\n",
    "\n",
    "#Formula A1\n",
    "i=0\n",
    "A=0.0\n",
    "sumx=sumy=sumxy=sumx2=0\n",
    "while i<20:\n",
    "    while i<20:\n",
    "        sumx=sumx+x[i]\n",
    "        sumy=sumy+y[i]\n",
    "        sumxy=sumxy+(x[i]*y[i])\n",
    "        sumx2=sumx2+(x[i]**2)\n",
    "        i=i+1\n",
    "    A=((20.0*sumxy)-(sumx*sumy))/((20.0*sumx2)-((sumx)**2))\n",
    "print \"el valor de A1: \", A  #valor expreimental\n",
    "\n",
    "#Formula A0\n",
    "#promedio x\n",
    "print \"El valor promedio de x es: \", x.mean() #valor promedio de x exacto\n",
    "#promedio y\n",
    "print \"El valor promedio de y es: \", y.mean() #valor promedio de y exacto\n",
    "\n",
    "a=((y.mean())-(x.mean()*A))\n",
    "print \"el valor de A0: \", a  #valor expreimental\n",
    "\n",
    "#Formula de y\n",
    "b=0\n",
    "vy=[]\n",
    "def f(g):\n",
    "    return a+(A*g)\n",
    "vy=f(x)\n",
    "\n",
    "#Grafica\n",
    "plt.plot(x,vy, color=\"b\", linestyle=\"--\")\n",
    "plt.scatter(x,y, color=\"m\")\n",
    "plt.title(\"Funcion\")   # Establece el título del gráfico\n",
    "plt.xlabel(\"Valores en t\")   # Establece el título del eje x \n",
    "plt.ylabel(\"Funcion \")   # Establece el título del eje y\n",
    "plt.grid(True)  # Activa cuadrícula del gráfico pero no se muestra\n",
    "plt.show()"
   ]
  },
  {
   "cell_type": "code",
   "execution_count": null,
   "metadata": {
    "collapsed": true
   },
   "outputs": [],
   "source": []
  }
 ],
 "metadata": {
  "kernelspec": {
   "display_name": "Python 2",
   "language": "python",
   "name": "python2"
  },
  "language_info": {
   "codemirror_mode": {
    "name": "ipython",
    "version": 2
   },
   "file_extension": ".py",
   "mimetype": "text/x-python",
   "name": "python",
   "nbconvert_exporter": "python",
   "pygments_lexer": "ipython2",
   "version": "2.7.10"
  }
 },
 "nbformat": 4,
 "nbformat_minor": 0
}
