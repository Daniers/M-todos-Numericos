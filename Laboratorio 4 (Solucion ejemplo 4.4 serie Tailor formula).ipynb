{
 "cells": [
  {
   "cell_type": "code",
   "execution_count": 11,
   "metadata": {
    "collapsed": false
   },
   "outputs": [
    {
     "name": "stdout",
     "output_type": "stream",
     "text": [
      "el valor de la funcion es:  0.925\n",
      "el valor del primer intervalo (0 - 0,5):  -1.45\n",
      "el valor del segundo intervalo (0,5 - 1):  -0.55\n",
      "el valor del intervalo completo (0 - 1):  -1.0\n"
     ]
    }
   ],
   "source": [
    "import math\n",
    "xr=0\n",
    "h=0.5\n",
    "x=xr+h\n",
    "x1=x+h\n",
    "\n",
    "def fx(x):\n",
    "    return (-0.1*(x**4))-(0.15*(x**3))-(0.5*(x**2))-(0.25*x)+1.2\n",
    "\n",
    "def fini(x,x1):\n",
    "    f1=(fx(x)-fx(x1))/h\n",
    "    return f1\n",
    "\n",
    "def fmed(x,xr):\n",
    "    f2=(fx(xr)-fx(x))/h\n",
    "    return f2\n",
    "\n",
    "def ffin(xr,x1):\n",
    "    f3=(fx(x1)-fx(xr))/(2*h)\n",
    "    return f3\n",
    "\n",
    "print \"el valor de la funcion es: \", fx(x)\n",
    "print \"el valor del primer intervalo (0 - 0,5): \",fmed(x,x1)\n",
    "print \"el valor del segundo intervalo (0,5 - 1): \",fini(x,xr)\n",
    "print \"el valor del intervalo completo (0 - 1): \",ffin(xr,x1)"
   ]
  },
  {
   "cell_type": "code",
   "execution_count": null,
   "metadata": {
    "collapsed": true
   },
   "outputs": [],
   "source": []
  }
 ],
 "metadata": {
  "kernelspec": {
   "display_name": "Python 2",
   "language": "python",
   "name": "python2"
  },
  "language_info": {
   "codemirror_mode": {
    "name": "ipython",
    "version": 2
   },
   "file_extension": ".py",
   "mimetype": "text/x-python",
   "name": "python",
   "nbconvert_exporter": "python",
   "pygments_lexer": "ipython2",
   "version": "2.7.10"
  }
 },
 "nbformat": 4,
 "nbformat_minor": 0
}
