{
 "cells": [
  {
   "cell_type": "code",
   "execution_count": 21,
   "metadata": {
    "collapsed": false
   },
   "outputs": [
    {
     "name": "stdout",
     "output_type": "stream",
     "text": [
      "el valor medio es:  20.4\n",
      "el valor de la desviacion estandar es:  1.39170474788\n",
      "20.4\n",
      "1.35646599663\n"
     ]
    }
   ],
   "source": [
    "import numpy as np\n",
    "import math\n",
    "\n",
    "x=[19,19,23,21,21,21,19,18,20,22,22,21,19,19,20,20,20,21,20,23]\n",
    "x=np.array(x)\n",
    "#promedio\n",
    "i=0\n",
    "prome=0.0\n",
    "while i<20:\n",
    "    prome= prome+x[i]\n",
    "    i+=1\n",
    "prome=prome/20.0\n",
    "print \"el valor medio es: \", prome  #valor expreimental\n",
    "\n",
    "#desviacion estandar\n",
    "\n",
    "i=0\n",
    "result=0.0\n",
    "while i<20:\n",
    "    result= result+((x[i]-prome)**2)\n",
    "    i+=1\n",
    "result=result/(i-1)\n",
    "result=math.sqrt(result)\n",
    "print \"el valor de la desviacion estandar es: \", result  #valor expreimental\n",
    "\n",
    "print x.mean() #valor promedio exacto\n",
    "print x.std()  #valor desviacion estandar exacto"
   ]
  },
  {
   "cell_type": "code",
   "execution_count": null,
   "metadata": {
    "collapsed": true
   },
   "outputs": [],
   "source": []
  }
 ],
 "metadata": {
  "kernelspec": {
   "display_name": "Python 2",
   "language": "python",
   "name": "python2"
  },
  "language_info": {
   "codemirror_mode": {
    "name": "ipython",
    "version": 2
   },
   "file_extension": ".py",
   "mimetype": "text/x-python",
   "name": "python",
   "nbconvert_exporter": "python",
   "pygments_lexer": "ipython2",
   "version": "2.7.10"
  }
 },
 "nbformat": 4,
 "nbformat_minor": 0
}
